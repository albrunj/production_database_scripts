{
 "cells": [
  {
   "cell_type": "code",
   "execution_count": 1,
   "metadata": {},
   "outputs": [],
   "source": [
    "#!/usr/bin/python3\n",
    "### get general libraries\n",
    "import copy\n",
    "import os\n",
    "import sys\n",
    "from datetime import datetime"
   ]
  },
  {
   "cell_type": "code",
   "execution_count": 2,
   "metadata": {},
   "outputs": [
    {
     "name": "stdout",
     "output_type": "stream",
     "text": [
      "Done\n",
      "Kenneth\n"
     ]
    }
   ],
   "source": [
    "### get PDB credentials\n",
    "cwd = os.getcwd()\n",
    "# check where this is:\n",
    "#cwd\n",
    "sys.path.insert(1, cwd+\"/Notebooks\")\n",
    "import setEnv\n",
    "setEnv.SetEnv()\n",
    "\n",
    "# import API and check authentication\n",
    "import itkdb\n",
    "myClient = itkdb.Client()\n",
    "myClient.user.authenticate()\n",
    "user=myClient.get('getUser', json={'userIdentity': myClient.user.identity})\n",
    "print(user['firstName'])"
   ]
  },
  {
   "cell_type": "code",
   "execution_count": 5,
   "metadata": {},
   "outputs": [
    {
     "data": {
      "text/plain": [
       "'ready'"
      ]
     },
     "execution_count": 5,
     "metadata": {},
     "output_type": "execute_result"
    }
   ],
   "source": [
    "### start with code of component to be copied\n",
    "compCode=\"6ede3d5f7af65cef9bb9214ccc6e3a80\"\n",
    "compObj=myClient.get('getComponent',json={'component':compCode})\n",
    "compObj['state']"
   ]
  },
  {
   "cell_type": "code",
   "execution_count": 6,
   "metadata": {},
   "outputs": [
    {
     "data": {
      "text/plain": [
       "{'project': 'P',\n",
       " 'subproject': '...',\n",
       " 'institution': '...',\n",
       " 'componentType': 'SENSOR_TILE',\n",
       " 'type': '...',\n",
       " 'properties': {'MAN_SNO': 'BINELLYICSBIYDTDIFLDZPZCVBAWSA',\n",
       "  'MAIN_VENDOR': 49,\n",
       "  'SENSOR_TYPE_OR_TEST_STRUCTURE': 331,\n",
       "  'VERSION': 'WLIJQKCYWGYQKTQBQGHZPEZXXJTWWD'}}"
      ]
     },
     "execution_count": 6,
     "metadata": {},
     "output_type": "execute_result"
    }
   ],
   "source": [
    "# get basic template of componentType\n",
    "comp_template = myClient.get('generateComponentTypeDtoSample', json={'project':compObj['project']['code'], 'code': compObj['componentType']['code'], 'requiredOnly' : False})\n",
    "comp_template"
   ]
  },
  {
   "cell_type": "code",
   "execution_count": 7,
   "metadata": {},
   "outputs": [
    {
     "data": {
      "text/plain": [
       "{'project': 'P',\n",
       " 'subproject': 'PG',\n",
       " 'institution': 'GL',\n",
       " 'componentType': 'SENSOR_TILE',\n",
       " 'type': 'RD53A-LIKE_SENSOR_TILE_150MUM',\n",
       " 'properties': {'MAN_SNO': 'BINELLYICSBIYDTDIFLDZPZCVBAWSA',\n",
       "  'MAIN_VENDOR': 49,\n",
       "  'SENSOR_TYPE_OR_TEST_STRUCTURE': 331,\n",
       "  'VERSION': 'WLIJQKCYWGYQKTQBQGHZPEZXXJTWWD'}}"
      ]
     },
     "execution_count": 7,
     "metadata": {},
     "output_type": "execute_result"
    }
   ],
   "source": [
    "# make replicant by copying basic template of componentType\n",
    "repObj=copy.deepcopy(comp_template)\n",
    "\n",
    "# copy basics to replicant\n",
    "basic_list=['subproject','institution','type']\n",
    "for k in basic_list:\n",
    "    repObj[k]=compObj[k]['code']\n",
    "repObj"
   ]
  },
  {
   "cell_type": "code",
   "execution_count": 8,
   "metadata": {},
   "outputs": [],
   "source": [
    "# copy rest -- basically there is nothing else supported in registration\n",
    "# avoid=['id','code','serialNumber','state','user','cts']\n",
    "# # cern-itkpd-main/registerComponent/unsupportedKeys: {'type': 'warning', 'message': 'DtoIn contains unsupported keys.', 'paramMap': {'unsupportedKeyList': ['$.alternativeIdentifier', '$.stateTs', '$.stateUserIdentity', '$.dummy', '$.completed', '$.assembled', '$.trashed', '$.reworked', '$.sys', '$.currentLocation', '$.currentStage', '$.parents', '$.stages', '$.tests']}}\n",
    "# unsupportedKeys= ['alternativeIdentifier', 'stateTs', 'stateUserIdentity', 'dummy', 'completed', 'assembled', 'trashed', 'reworked', 'sys', 'currentLocation', 'currentStage', 'parents', 'stages', 'tests']\n",
    "# for k,v in compObj.items():\n",
    "#     #print(type(v))\n",
    "#     if k in repObj.keys(): continue\n",
    "#     if k in unsupportedKeys: continue\n",
    "#     if k in avoid: continue\n",
    "#     if v==None: continue\n",
    "#     if \"list\" in str(type(v)) and len(v)==0: continue\n",
    "#     if \"dict\" in str(type(v)) and len(v.keys())==0: continue\n",
    "#     repObj[k]=compObj[k]\n",
    "# repObj"
   ]
  },
  {
   "cell_type": "code",
   "execution_count": 9,
   "metadata": {},
   "outputs": [
    {
     "name": "stdout",
     "output_type": "stream",
     "text": [
      "{'code': 'MAIN_VENDOR', 'name': 'Main Vendor', 'dataType': 'integer', 'required': True, 'default': False, 'value': 5, 'dateTime': None, 'userIdentity': None}\n",
      "{'code': 'MAN_SNO', 'name': 'Manufacturer serial number', 'dataType': 'string', 'required': True, 'default': True, 'value': 'V6-3809-04', 'dateTime': None, 'userIdentity': None}\n",
      "{'code': 'SENSOR_TYPE_OR_TEST_STRUCTURE', 'name': 'Sensor Type or Test Structure', 'dataType': 'integer', 'required': True, 'default': False, 'value': 3, 'dateTime': None, 'userIdentity': None}\n",
      "{'code': 'VERSION', 'name': 'Version of component', 'dataType': 'string', 'required': True, 'default': False, 'value': None, 'dateTime': None, 'userIdentity': None}\n"
     ]
    }
   ],
   "source": [
    "# copy properties to replicant\n",
    "# compObj['properties']\n",
    "for p in compObj['properties']:\n",
    "    for rp in repObj['properties'].keys():\n",
    "        if p['code']==rp:\n",
    "            print(p)\n",
    "            if p['value']==None: continue\n",
    "            repObj['properties'][rp]=p['value']\n",
    "# MAN_SNO must be unique so flag change with time\n",
    "now=datetime.now()\n",
    "nowStr=now.strftime(\"%d.%m.%Y_%H:%M\")\n",
    "repObj['properties']['MAN_SNO']+=\"_copied_\"+nowStr"
   ]
  },
  {
   "cell_type": "code",
   "execution_count": 10,
   "metadata": {},
   "outputs": [
    {
     "data": {
      "text/plain": [
       "{'project': 'P',\n",
       " 'subproject': 'PG',\n",
       " 'institution': 'GL',\n",
       " 'componentType': 'SENSOR_TILE',\n",
       " 'type': 'RD53A-LIKE_SENSOR_TILE_150MUM',\n",
       " 'properties': {'MAN_SNO': 'V6-3809-04_copied_08.12.2020_17:20',\n",
       "  'MAIN_VENDOR': 5,\n",
       "  'SENSOR_TYPE_OR_TEST_STRUCTURE': 3,\n",
       "  'VERSION': 'WLIJQKCYWGYQKTQBQGHZPEZXXJTWWD'}}"
      ]
     },
     "execution_count": 10,
     "metadata": {},
     "output_type": "execute_result"
    }
   ],
   "source": [
    "### check what's there\n",
    "repObj"
   ]
  },
  {
   "cell_type": "code",
   "execution_count": 12,
   "metadata": {},
   "outputs": [
    {
     "name": "stdout",
     "output_type": "stream",
     "text": [
      "20UPGS85300041\n",
      "20UPGS85300149\n"
     ]
    }
   ],
   "source": [
    "### register component\n",
    "new_sensor = myClient.post('registerComponent', json=repObj)\n",
    "\n",
    "### checking not the same!\n",
    "print(compObj['serialNumber'])\n",
    "print(new_sensor['component']['serialNumber'])"
   ]
  },
  {
   "cell_type": "code",
   "execution_count": 13,
   "metadata": {},
   "outputs": [],
   "source": [
    "# a couple of useful functions\n",
    "def FormatProperties(inDict):\n",
    "    outDict={}\n",
    "    for i in inDict:\n",
    "        outDict[i['code']]=i['value']\n",
    "    return outDict\n",
    "\n",
    "def GetResult(inDict,testCode):\n",
    "    #outDict={}\n",
    "    for i in inDict:\n",
    "        if i['code']==testCode:\n",
    "            #outDict[i['code']]=i['value']\n",
    "            return i['value']"
   ]
  },
  {
   "cell_type": "code",
   "execution_count": 15,
   "metadata": {},
   "outputs": [
    {
     "name": "stdout",
     "output_type": "stream",
     "text": [
      "{'id': '5b1a3abf130f5600054a42a8', 'code': 'IV_MEASURE', 'name': 'IV Measurment', 'testRuns': [{'id': '5faeb70ce615fa000a1bcc0f', 'state': 'ready', 'stateTs': '2020-11-13T16:40:44.346Z', 'stateUserIdentity': None, 'runNumber': '...', 'passed': True, 'problems': False, 'date': '05.10.2020 14:35', 'institution': {'id': '59d60ee4ed67730005160cd9', 'code': 'GL', 'name': 'Glasgow University'}, 'cts': '2020-11-13T16:40:44.367Z'}, {'id': '5faeb6b4e615fa000a1bcbf2', 'state': 'requestedToDelete', 'stateTs': '2020-11-13T16:40:06.522Z', 'stateUserIdentity': '8281-1164-1', 'runNumber': '...', 'passed': True, 'problems': False, 'date': '05.10.2020 15:02', 'institution': {'id': '59d60ee4ed67730005160cd9', 'code': 'GL', 'name': 'Glasgow University'}, 'cts': '2020-11-13T16:39:16.170Z'}, {'id': '5faeac80e615fa000a1bca93', 'state': 'requestedToDelete', 'stateTs': '2020-11-13T16:38:50.115Z', 'stateUserIdentity': '8281-1164-1', 'runNumber': '...', 'passed': True, 'problems': False, 'date': '05.10.2020 14:35', 'institution': {'id': '59d60ee4ed67730005160cd9', 'code': 'GL', 'name': 'Glasgow University'}, 'cts': '2020-11-13T15:55:44.740Z'}, {'id': '5faeac62e615fa000a1bca84', 'state': 'requestedToDelete', 'stateTs': '2020-11-13T16:03:13.647Z', 'stateUserIdentity': '8281-1164-1', 'runNumber': '...', 'passed': True, 'problems': False, 'date': '27.10.2020 23:32', 'institution': {'id': '59d60ee4ed67730005160cd9', 'code': 'GL', 'name': 'Glasgow University'}, 'cts': '2020-11-13T15:55:14.800Z'}, {'id': '5fac0ef5e615fa000a1b4b84', 'state': 'requestedToDelete', 'stateTs': '2020-11-13T14:26:22.157Z', 'stateUserIdentity': '8281-1164-1', 'runNumber': '...', 'passed': True, 'problems': False, 'date': '27.10.2020 23:32', 'institution': {'id': '59d60ee4ed67730005160cd9', 'code': 'GL', 'name': 'Glasgow University'}, 'cts': '2020-11-11T16:19:01.108Z'}, {'id': '5fad08dee615fa000a1b78b8', 'state': 'requestedToDelete', 'stateTs': '2020-11-13T14:25:48.435Z', 'stateUserIdentity': '8281-1164-1', 'runNumber': '...', 'passed': True, 'problems': False, 'date': '27.10.2020 23:32', 'institution': {'id': '59d60ee4ed67730005160cd9', 'code': 'GL', 'name': 'Glasgow University'}, 'cts': '2020-11-12T10:05:18.657Z'}, {'id': '5fad08f6e615fa000a1b78c8', 'state': 'requestedToDelete', 'stateTs': '2020-11-13T14:25:29.656Z', 'stateUserIdentity': '8281-1164-1', 'runNumber': '...', 'passed': True, 'problems': False, 'date': '27.10.2020 23:32', 'institution': {'id': '59d60ee4ed67730005160cd9', 'code': 'GL', 'name': 'Glasgow University'}, 'cts': '2020-11-12T10:05:42.075Z'}, {'id': '5fad0b42e615fa000a1b795c', 'state': 'requestedToDelete', 'stateTs': '2020-11-13T14:25:10.232Z', 'stateUserIdentity': '8281-1164-1', 'runNumber': '...', 'passed': True, 'problems': False, 'date': '05.10.2020 14:35', 'institution': {'id': '59d60ee4ed67730005160cd9', 'code': 'GL', 'name': 'Glasgow University'}, 'cts': '2020-11-12T10:15:30.411Z'}, {'id': '5fad0f1de615fa000a1b7a86', 'state': 'requestedToDelete', 'stateTs': '2020-11-13T14:23:44.421Z', 'stateUserIdentity': '8281-1164-1', 'runNumber': '...', 'passed': True, 'problems': False, 'date': '27.10.2020 23:32', 'institution': {'id': '59d60ee4ed67730005160cd9', 'code': 'GL', 'name': 'Glasgow University'}, 'cts': '2020-11-12T10:31:57.663Z'}, {'id': '5fad4d53e615fa000a1b83fb', 'state': 'requestedToDelete', 'stateTs': '2020-11-13T14:23:07.835Z', 'stateUserIdentity': '8281-1164-1', 'runNumber': '...', 'passed': True, 'problems': False, 'date': '11.02.2019 14:36', 'institution': {'id': '59d60ee4ed67730005160cd9', 'code': 'GL', 'name': 'Glasgow University'}, 'cts': '2020-11-12T14:57:23.123Z'}]}\n",
      "{'testRun': {'testType': '5b1a3abf130f5600054a42a8', 'institution': '59d60ee4ed67730005160cd9', 'runNumber': '...', 'date': '05.10.2020 14:35', 'passed': True, 'problems': False, 'comments': [], 'defects': [], 'attachments': [], 'state': 'ready', 'awid': 'dcb3f6d1f130482581ba1e7bbe34413c', 'userIdentity': '8281-1164-1', 'stateTs': '2020-12-08T17:23:47.905Z', 'stateUIdentity': '8281-1164-1', 'sys': {'cts': '2020-12-08T17:23:47.905Z', 'mts': '2020-12-08T17:23:47.905Z', 'rev': 0}, 'id': '5fcfb6a367b73a000ab90e05'}, 'componentTestRun': {'awid': 'dcb3f6d1f130482581ba1e7bbe34413c', 'component': '5fcfb62a67b73a000ab90e01', 'componentType': '5a09b26d88792100056f214b', 'state': 'ready', 'stateTs': '2020-12-08T17:23:47.905Z', 'stateUserIdentity': None, 'stage': 'RECEPTION_INSTITUTE', 'testType': '5b1a3abf130f5600054a42a8', 'testRun': '5fcfb6a367b73a000ab90e05', 'runNumber': '...', 'passed': True, 'problems': False, 'date': '05.10.2020 14:35', 'institution': '59d60ee4ed67730005160cd9', 'ancestorMap': None, 'sys': {'cts': '2020-12-08T17:23:47.914Z', 'mts': '2020-12-08T17:23:47.914Z', 'rev': 0}, 'id': '5fcfb6a367b73a000ab90e06'}}\n"
     ]
    }
   ],
   "source": [
    "# upload test results from original to replicant\n",
    "uploadDict={}\n",
    "uploadDict['component']=new_sensor['component']['code']\n",
    "for t in compObj['tests']:\n",
    "    print(t)\n",
    "    uploadDict['testType']=t['code']\n",
    "    for rt in t['testRuns']:\n",
    "        if rt['state']==\"requestedToDelete\": continue\n",
    "        uploadDict['institution']=rt['institution']['code']\n",
    "        uploadDict['runNumber']=rt['runNumber']\n",
    "        uploadDict['date']=rt['date']\n",
    "        uploadDict['passed']=rt['passed']\n",
    "        uploadDict['problems']=rt['problems']\n",
    "        testObj=myClient.get('getTestRun',json={'testRun':rt['id']})\n",
    "        uploadDict['properties']=FormatProperties(testObj['properties'])\n",
    "        uploadDict['results']={}\n",
    "        if \"IV\" in t['code']:\n",
    "            uploadDict['results']['IV_ARRAY']=GetResult(testObj['results'],\"IV_ARRAY\")\n",
    "            uploadDict['results']['BREAKDOWN_VOLTAGE']=GetResult(testObj['results'],\"BREAKDOWN_VOLTAGE\")\n",
    "            uploadDict['results']['LEAK_CURRENT']=GetResult(testObj['results'],\"LEAK_PLANAR\")\n",
    "            uploadDict['results']['IV_IMG']=GetResult(testObj['results'],\"IV_IMG\")\n",
    "        uploadDict['comments']=testObj['comments']\n",
    "        uploadDict['defects']=testObj['defects']\n",
    "        updateReturn = myClient.post('uploadTestRunResults', json={**uploadDict})\n",
    "        ### check return value\n",
    "        print(updateReturn)"
   ]
  },
  {
   "cell_type": "code",
   "execution_count": 16,
   "metadata": {},
   "outputs": [
    {
     "data": {
      "text/plain": [
       "[{'id': '5b1a3abf130f5600054a42a8',\n",
       "  'code': 'IV_MEASURE',\n",
       "  'name': 'IV Measurment',\n",
       "  'testRuns': [{'id': '5fcfb6a367b73a000ab90e05',\n",
       "    'state': 'ready',\n",
       "    'stateTs': '2020-12-08T17:23:47.905Z',\n",
       "    'stateUserIdentity': None,\n",
       "    'runNumber': '...',\n",
       "    'passed': True,\n",
       "    'problems': False,\n",
       "    'date': '05.10.2020 14:35',\n",
       "    'institution': {'id': '59d60ee4ed67730005160cd9',\n",
       "     'code': 'GL',\n",
       "     'name': 'Glasgow University'},\n",
       "    'cts': '2020-12-08T17:23:47.914Z'}]}]"
      ]
     },
     "execution_count": 16,
     "metadata": {},
     "output_type": "execute_result"
    }
   ],
   "source": [
    "### checking new component in PDB\n",
    "newObj=myClient.get('getComponent',json={'component':new_sensor['component']['code']})\n",
    "newObj['tests']"
   ]
  },
  {
   "cell_type": "code",
   "execution_count": 19,
   "metadata": {},
   "outputs": [
    {
     "name": "stdout",
     "output_type": "stream",
     "text": [
      "requestedToDelete\n"
     ]
    }
   ],
   "source": [
    "### delete component if required\n",
    "myClient.post('deleteComponent', json={'component':new_sensor['component']['code']})\n",
    "\n",
    "### component is flagged for deletion\n",
    "checkObj=myClient.get('getComponent',json={'component':new_sensor['component']['code']})\n",
    "print(checkObj['state'])\n"
   ]
  },
  {
   "cell_type": "code",
   "execution_count": null,
   "metadata": {},
   "outputs": [],
   "source": []
  }
 ],
 "metadata": {
  "anaconda-cloud": {},
  "kernelspec": {
   "display_name": "Python 3",
   "language": "python",
   "name": "python3"
  },
  "language_info": {
   "codemirror_mode": {
    "name": "ipython",
    "version": 3
   },
   "file_extension": ".py",
   "mimetype": "text/x-python",
   "name": "python",
   "nbconvert_exporter": "python",
   "pygments_lexer": "ipython3",
   "version": "3.8.3"
  }
 },
 "nbformat": 4,
 "nbformat_minor": 4
}
