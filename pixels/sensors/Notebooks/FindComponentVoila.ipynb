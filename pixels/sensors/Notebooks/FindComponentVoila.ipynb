{
 "cells": [
  {
   "cell_type": "markdown",
   "metadata": {},
   "source": [
    "# Simple PDB Check\n",
    "### find component details"
   ]
  },
  {
   "cell_type": "code",
   "execution_count": 1,
   "metadata": {},
   "outputs": [],
   "source": [
    "#!/usr/bin/python3\n",
    "### get general libraries\n",
    "import os\n",
    "import sys\n",
    "import numpy as np\n",
    "import pandas as pd\n",
    "import ipywidgets as widgets\n",
    "from ipywidgets import interactive_output, interact\n",
    "\n",
    "from notebook.services.config import ConfigManager"
   ]
  },
  {
   "cell_type": "code",
   "execution_count": 2,
   "metadata": {},
   "outputs": [
    {
     "name": "stdout",
     "output_type": "stream",
     "text": [
      "Done\n",
      "Kenneth\n"
     ]
    }
   ],
   "source": [
    "### get PDB credentials\n",
    "cwd = os.getcwd()\n",
    "# check where this is:\n",
    "#cwd\n",
    "sys.path.insert(1, cwd+\"/Notebooks\")\n",
    "import setEnv\n",
    "setEnv.SetEnv()\n",
    "\n",
    "# import API and check authentication\n",
    "import itkdb\n",
    "myClient = itkdb.Client()\n",
    "myClient.user.authenticate()\n",
    "user=myClient.get('getUser', json={'userIdentity': myClient.user.identity})\n",
    "print(user['firstName'])"
   ]
  },
  {
   "cell_type": "markdown",
   "metadata": {},
   "source": [
    "## Select institution and project"
   ]
  },
  {
   "cell_type": "code",
   "execution_count": 3,
   "metadata": {},
   "outputs": [],
   "source": [
    "# institute widget\n",
    "selInst = widgets.Dropdown(\n",
    "    options=['LIV', 'GL'],\n",
    "    value='GL',\n",
    "    description='Institution:',\n",
    "    disabled=False,\n",
    "    layout = widgets.Layout(width='50%', height='80px')\n",
    ")\n",
    "\n",
    "# project widget\n",
    "selProj = widgets.Dropdown(\n",
    "    options=['S', 'P'],\n",
    "    value='S',\n",
    "    description='Project:',\n",
    "    disabled=False,\n",
    "    layout = widgets.Layout(width='50%', height='80px')\n",
    ")\n",
    "\n",
    "#opts = widgets.HBox([selInst, selProj])"
   ]
  },
  {
   "cell_type": "code",
   "execution_count": 4,
   "metadata": {},
   "outputs": [],
   "source": [
    "compMap=[]\n",
    "def Get_df(myInst, myProj):\n",
    "    global compMap\n",
    "    compList=list(myClient.get('listComponents',json={'institution':myInst, 'project':myProj }))\n",
    "    compMap=[{\"code\":w['code'], \"ASN\":w['serialNumber'], \"altID\":w['alternativeIdentifier'], \"typeCode\":w['componentType']['code'],\"projCode\":w['project']['code'],\"instCode\":w['institution']['code'],\"locCode\":w['currentLocation']['code'],\"state\":w['state']} for w in compList]\n",
    "    #print(\"length:\",len(compMap))\n",
    "    df_comp=pd.DataFrame(compMap)\n",
    "    display(df_comp.drop([\"code\",\"ASN\",\"state\"], axis=1))\n",
    "    return\n",
    "\n",
    "out_df=interactive_output(Get_df, {'myInst':selInst, 'myProj':selProj} )"
   ]
  },
  {
   "cell_type": "code",
   "execution_count": 5,
   "metadata": {},
   "outputs": [
    {
     "data": {
      "application/vnd.jupyter.widget-view+json": {
       "model_id": "f9e77ec55ea9415190a595e384472c30",
       "version_major": 2,
       "version_minor": 0
      },
      "text/plain": [
       "VBox(children=(Dropdown(description='Institution:', index=1, layout=Layout(height='80px', width='50%'), option…"
      ]
     },
     "metadata": {},
     "output_type": "display_data"
    }
   ],
   "source": [
    "display( widgets.VBox( [selInst, selProj, out_df]) )"
   ]
  },
  {
   "cell_type": "markdown",
   "metadata": {},
   "source": [
    "## Select componentType and alternativeID\n",
    "### (from selected institution and project)"
   ]
  },
  {
   "cell_type": "code",
   "execution_count": 8,
   "metadata": {},
   "outputs": [],
   "source": [
    "# component type selection based on above inst & proj selections\n",
    "def set_compType(selCompType):\n",
    "    global compMap\n",
    "\n",
    "def set_compType_options(_):\n",
    "    global compMap\n",
    "    selCompType.options = list( dict.fromkeys( [x['typeCode'] for x in compMap] ) )\n",
    "\n",
    "# component widget\n",
    "selCompType = widgets.Dropdown(\n",
    "    options=[],\n",
    "    #value='S',\n",
    "    description='Select Component Type:',\n",
    "    disabled=False,\n",
    "    layout = widgets.Layout(width='50%', height='80px')\n",
    ")\n",
    "\n",
    "selInst.observe(set_compType_options)\n",
    "selProj.observe(set_compType_options)\n",
    "\n",
    "#interact function - commented as later interact call duplicates\n",
    "#interact(set_compType, selCompType = selCompType)"
   ]
  },
  {
   "cell_type": "code",
   "execution_count": 12,
   "metadata": {},
   "outputs": [],
   "source": [
    "# alterative ID selection based on above inst & proj & compType selections\n",
    "def set_altID(selCompType, selAltID):\n",
    "    global compMap\n",
    "\n",
    "def set_altID_options(_):\n",
    "    global compMap\n",
    "    selAltID.options = [x['altID'] for x in compMap if x['typeCode']==selCompType.value] \n",
    "\n",
    "# component widget\n",
    "selAltID = widgets.Dropdown(\n",
    "    options=[],\n",
    "    #value='S',\n",
    "    description='Select Component altID:',\n",
    "    disabled=False,\n",
    "    layout = widgets.Layout(width='50%', height='80px')\n",
    ")\n",
    "\n",
    "selCompType.observe(set_altID_options)"
   ]
  },
  {
   "cell_type": "code",
   "execution_count": 19,
   "metadata": {},
   "outputs": [
    {
     "data": {
      "application/vnd.jupyter.widget-view+json": {
       "model_id": "c28b8492f8034a2b99a8c0d87cd62992",
       "version_major": 2,
       "version_minor": 0
      },
      "text/plain": [
       "interactive(children=(Dropdown(description='Select Component Type:', layout=Layout(height='80px', width='50%')…"
      ]
     },
     "metadata": {},
     "output_type": "display_data"
    },
    {
     "data": {
      "text/plain": [
       "<function __main__.set_altID(selCompType, selAltID)>"
      ]
     },
     "execution_count": 19,
     "metadata": {},
     "output_type": "execute_result"
    }
   ],
   "source": [
    "#interact function - gives both compType and altID selection\n",
    "interact(set_altID, selCompType = selCompType, selAltID = selAltID)"
   ]
  },
  {
   "cell_type": "code",
   "execution_count": 16,
   "metadata": {},
   "outputs": [],
   "source": [
    "def Get_comp(altID):\n",
    "    global compMap\n",
    "    df_comp=pd.DataFrame(compMap)\n",
    "    try:\n",
    "        display(df_comp.query('altID==\"'+altID+'\"'))\n",
    "    except:\n",
    "        print(\"poorly defined identifier\")\n",
    "    return"
   ]
  },
  {
   "cell_type": "code",
   "execution_count": 17,
   "metadata": {},
   "outputs": [],
   "source": [
    "out_comp=interactive_output(Get_comp, {'altID':selAltID} )"
   ]
  },
  {
   "cell_type": "code",
   "execution_count": 18,
   "metadata": {},
   "outputs": [
    {
     "data": {
      "application/vnd.jupyter.widget-view+json": {
       "model_id": "b530dca301914ba0b1b63b174603f7e4",
       "version_major": 2,
       "version_minor": 0
      },
      "text/plain": [
       "VBox(children=(Output(outputs=({'output_type': 'stream', 'text': 'poorly defined identifier\\n', 'name': 'stdou…"
      ]
     },
     "metadata": {},
     "output_type": "display_data"
    }
   ],
   "source": [
    "display( widgets.VBox([out_comp]) )"
   ]
  },
  {
   "cell_type": "code",
   "execution_count": null,
   "metadata": {},
   "outputs": [],
   "source": []
  }
 ],
 "metadata": {
  "anaconda-cloud": {},
  "kernelspec": {
   "display_name": "Python 3",
   "language": "python",
   "name": "python3"
  },
  "language_info": {
   "codemirror_mode": {
    "name": "ipython",
    "version": 3
   },
   "file_extension": ".py",
   "mimetype": "text/x-python",
   "name": "python",
   "nbconvert_exporter": "python",
   "pygments_lexer": "ipython3",
   "version": "3.8.3"
  }
 },
 "nbformat": 4,
 "nbformat_minor": 4
}
