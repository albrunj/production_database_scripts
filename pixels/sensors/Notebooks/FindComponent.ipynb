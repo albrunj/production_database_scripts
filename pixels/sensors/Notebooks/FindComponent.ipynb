{
 "cells": [
  {
   "cell_type": "code",
   "execution_count": 1,
   "metadata": {},
   "outputs": [],
   "source": [
    "#!/usr/bin/python3\n",
    "### get general libraries\n",
    "import os\n",
    "import sys\n",
    "\n",
    "import pandas as pd"
   ]
  },
  {
   "cell_type": "code",
   "execution_count": 2,
   "metadata": {},
   "outputs": [
    {
     "name": "stdout",
     "output_type": "stream",
     "text": [
      "Done\n",
      "Kenneth\n"
     ]
    }
   ],
   "source": [
    "### get PDB credentials\n",
    "cwd = os.getcwd()\n",
    "# check where this is:\n",
    "#cwd\n",
    "sys.path.insert(1, cwd+\"/Notebooks\")\n",
    "import setEnv\n",
    "setEnv.SetEnv()\n",
    "\n",
    "# import API and check authentication\n",
    "import itkdb\n",
    "myClient = itkdb.Client()\n",
    "myClient.user.authenticate()\n",
    "user=myClient.get('getUser', json={'userIdentity': myClient.user.identity})\n",
    "print(user['firstName'])"
   ]
  },
  {
   "cell_type": "code",
   "execution_count": 3,
   "metadata": {},
   "outputs": [
    {
     "data": {
      "text/html": [
       "<div>\n",
       "<style scoped>\n",
       "    .dataframe tbody tr th:only-of-type {\n",
       "        vertical-align: middle;\n",
       "    }\n",
       "\n",
       "    .dataframe tbody tr th {\n",
       "        vertical-align: top;\n",
       "    }\n",
       "\n",
       "    .dataframe thead th {\n",
       "        text-align: right;\n",
       "    }\n",
       "</style>\n",
       "<table border=\"1\" class=\"dataframe\">\n",
       "  <thead>\n",
       "    <tr style=\"text-align: right;\">\n",
       "      <th></th>\n",
       "      <th>code</th>\n",
       "      <th>ASN</th>\n",
       "      <th>altID</th>\n",
       "      <th>typeCode</th>\n",
       "      <th>instCode</th>\n",
       "      <th>locCode</th>\n",
       "      <th>state</th>\n",
       "    </tr>\n",
       "  </thead>\n",
       "  <tbody>\n",
       "    <tr>\n",
       "      <th>0</th>\n",
       "      <td>98851f4f6924f6e495a1af047d729006</td>\n",
       "      <td>20UPGMC0200000</td>\n",
       "      <td>None</td>\n",
       "      <td>MODULE_CARRIER</td>\n",
       "      <td>LIV</td>\n",
       "      <td>LIV</td>\n",
       "      <td>ready</td>\n",
       "    </tr>\n",
       "    <tr>\n",
       "      <th>1</th>\n",
       "      <td>3d05cabee0f42b07d5ad8318b723125c</td>\n",
       "      <td>20UPGR99100000</td>\n",
       "      <td>None</td>\n",
       "      <td>MODULE</td>\n",
       "      <td>LIV</td>\n",
       "      <td>LIV</td>\n",
       "      <td>ready</td>\n",
       "    </tr>\n",
       "    <tr>\n",
       "      <th>2</th>\n",
       "      <td>1a040b5813e0a1306b1a3f7840f9ebcc</td>\n",
       "      <td>20UPGPQ4100000</td>\n",
       "      <td>None</td>\n",
       "      <td>PCB</td>\n",
       "      <td>LIV</td>\n",
       "      <td>LIV</td>\n",
       "      <td>ready</td>\n",
       "    </tr>\n",
       "    <tr>\n",
       "      <th>3</th>\n",
       "      <td>d385b0d2290e70267b23208f4c99c8c0</td>\n",
       "      <td>20UPGFW0069651</td>\n",
       "      <td>None</td>\n",
       "      <td>FE_CHIP</td>\n",
       "      <td>LIV</td>\n",
       "      <td>LIV</td>\n",
       "      <td>ready</td>\n",
       "    </tr>\n",
       "    <tr>\n",
       "      <th>4</th>\n",
       "      <td>c67afcdd9b5528b64c9aae274cb568e9</td>\n",
       "      <td>20UPGFW0069650</td>\n",
       "      <td>None</td>\n",
       "      <td>FE_CHIP</td>\n",
       "      <td>LIV</td>\n",
       "      <td>LIV</td>\n",
       "      <td>ready</td>\n",
       "    </tr>\n",
       "  </tbody>\n",
       "</table>\n",
       "</div>"
      ],
      "text/plain": [
       "                               code             ASN altID        typeCode  \\\n",
       "0  98851f4f6924f6e495a1af047d729006  20UPGMC0200000  None  MODULE_CARRIER   \n",
       "1  3d05cabee0f42b07d5ad8318b723125c  20UPGR99100000  None          MODULE   \n",
       "2  1a040b5813e0a1306b1a3f7840f9ebcc  20UPGPQ4100000  None             PCB   \n",
       "3  d385b0d2290e70267b23208f4c99c8c0  20UPGFW0069651  None         FE_CHIP   \n",
       "4  c67afcdd9b5528b64c9aae274cb568e9  20UPGFW0069650  None         FE_CHIP   \n",
       "\n",
       "  instCode locCode  state  \n",
       "0      LIV     LIV  ready  \n",
       "1      LIV     LIV  ready  \n",
       "2      LIV     LIV  ready  \n",
       "3      LIV     LIV  ready  \n",
       "4      LIV     LIV  ready  "
      ]
     },
     "metadata": {},
     "output_type": "display_data"
    }
   ],
   "source": [
    "# Check available component names and codes\n",
    "instCode=\"LIV\"\n",
    "projCode=\"P\"\n",
    "compList=list(myClient.get('listComponents',json={'institution':instCode, 'project':projCode }))\n",
    "compMap=[{\"code\":w['code'], \"ASN\":w['serialNumber'], \"altID\":w['alternativeIdentifier'], \"typeCode\":w['componentType']['code'],\"instCode\":w['institution']['code'],\"locCode\":w['currentLocation']['code'],\"state\":w['state']} for w in compList]\n",
    "df_comp=pd.DataFrame(compMap)\n",
    "# display top 5 rows only\n",
    "display(df_comp.head(5))  "
   ]
  },
  {
   "cell_type": "code",
   "execution_count": null,
   "metadata": {},
   "outputs": [],
   "source": [
    "df_comp.query('ASN==\"20UPGS93500001\"')"
   ]
  },
  {
   "cell_type": "code",
   "execution_count": null,
   "metadata": {},
   "outputs": [],
   "source": [
    "df_comp.query('ASN==\"20UPGS91700001\"')"
   ]
  },
  {
   "cell_type": "code",
   "execution_count": null,
   "metadata": {},
   "outputs": [],
   "source": []
  }
 ],
 "metadata": {
  "anaconda-cloud": {},
  "kernelspec": {
   "display_name": "Python 3",
   "language": "python",
   "name": "python3"
  },
  "language_info": {
   "codemirror_mode": {
    "name": "ipython",
    "version": 3
   },
   "file_extension": ".py",
   "mimetype": "text/x-python",
   "name": "python",
   "nbconvert_exporter": "python",
   "pygments_lexer": "ipython3",
   "version": "3.8.3"
  }
 },
 "nbformat": 4,
 "nbformat_minor": 4
}
