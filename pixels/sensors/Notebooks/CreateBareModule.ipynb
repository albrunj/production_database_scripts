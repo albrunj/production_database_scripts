{
 "cells": [
  {
   "cell_type": "code",
   "execution_count": 1,
   "metadata": {},
   "outputs": [],
   "source": [
    "# %% codecell\n",
    "#!/usr/bin/python3\n",
    "### get general libraries\n",
    "import os\n",
    "import sys\n",
    "\n",
    "import pandas as pd"
   ]
  },
  {
   "cell_type": "code",
   "execution_count": 2,
   "metadata": {},
   "outputs": [
    {
     "name": "stdout",
     "output_type": "stream",
     "text": [
      "Done\n",
      "Kenneth\n"
     ]
    }
   ],
   "source": [
    "### get PDB credentials\n",
    "cwd = os.getcwd()\n",
    "# check where this is:\n",
    "#cwd\n",
    "sys.path.insert(1, cwd+\"/Notebooks\")\n",
    "import setEnv\n",
    "setEnv.SetEnv()\n",
    "\n",
    "# import API and check authentication\n",
    "import itkdb\n",
    "myClient = itkdb.Client()\n",
    "myClient.user.authenticate()\n",
    "user=myClient.get('getUser', json={'userIdentity': myClient.user.identity})\n",
    "print(user['firstName'])"
   ]
  },
  {
   "cell_type": "code",
   "execution_count": 3,
   "metadata": {},
   "outputs": [
    {
     "data": {
      "text/plain": [
       "{'project': 'P',\n",
       " 'subproject': 'PG',\n",
       " 'institution': 'GL',\n",
       " 'componentType': 'BARE_MODULE',\n",
       " 'type': 'DIGITAL_QUAD_BARE_MODULE',\n",
       " 'properties': {'SENSOR_TYPE': '0', 'FECHIP_VERSION': '0'}}"
      ]
     },
     "execution_count": 3,
     "metadata": {},
     "output_type": "execute_result"
    }
   ],
   "source": [
    "projCode=\"P\"\n",
    "compTypeCode=\"BARE_MODULE\"\n",
    "# new module\n",
    "bareObj = myClient.get('generateComponentTypeDtoSample', json={'project':projCode, 'code': compTypeCode, 'requiredOnly' : False})\n",
    "\n",
    "### add basic info.\n",
    "bareObj['subproject']=\"PG\"\n",
    "bareObj['type']=\"DIGITAL_QUAD_BARE_MODULE\"\n",
    "bareObj['institution']=\"GL\"\n",
    "bareObj['properties'] = {'SENSOR_TYPE' : '0', 'FECHIP_VERSION': '0'}\n",
    "bareObj"
   ]
  },
  {
   "cell_type": "code",
   "execution_count": 10,
   "metadata": {},
   "outputs": [],
   "source": [
    "### register component\n",
    "new_bare = myClient.post('registerComponent', json=bareObj)\n",
    "newCode=new_bare['component']['code']"
   ]
  },
  {
   "cell_type": "code",
   "execution_count": 11,
   "metadata": {},
   "outputs": [],
   "source": [
    "### get component\n",
    "compCode=newCode\n",
    "compObj = myClient.get('getComponent',json={'component':compCode})"
   ]
  },
  {
   "cell_type": "code",
   "execution_count": 12,
   "metadata": {},
   "outputs": [
    {
     "data": {
      "text/html": [
       "<div>\n",
       "<style scoped>\n",
       "    .dataframe tbody tr th:only-of-type {\n",
       "        vertical-align: middle;\n",
       "    }\n",
       "\n",
       "    .dataframe tbody tr th {\n",
       "        vertical-align: top;\n",
       "    }\n",
       "\n",
       "    .dataframe thead th {\n",
       "        text-align: right;\n",
       "    }\n",
       "</style>\n",
       "<table border=\"1\" class=\"dataframe\">\n",
       "  <thead>\n",
       "    <tr style=\"text-align: right;\">\n",
       "      <th></th>\n",
       "      <th>name</th>\n",
       "      <th>code</th>\n",
       "    </tr>\n",
       "  </thead>\n",
       "  <tbody>\n",
       "    <tr>\n",
       "      <th>0</th>\n",
       "      <td>Bare Module Metrology</td>\n",
       "      <td>BARE_MODULE_METROLOGY</td>\n",
       "    </tr>\n",
       "    <tr>\n",
       "      <th>1</th>\n",
       "      <td>Mass Measurement</td>\n",
       "      <td>MASS_MEASUREMENT</td>\n",
       "    </tr>\n",
       "    <tr>\n",
       "      <th>2</th>\n",
       "      <td>Optical Inspection</td>\n",
       "      <td>OPTICAL_INSPECTION</td>\n",
       "    </tr>\n",
       "    <tr>\n",
       "      <th>3</th>\n",
       "      <td>Vender Information</td>\n",
       "      <td>VENDER_INFORMATION</td>\n",
       "    </tr>\n",
       "  </tbody>\n",
       "</table>\n",
       "</div>"
      ],
      "text/plain": [
       "                    name                   code\n",
       "0  Bare Module Metrology  BARE_MODULE_METROLOGY\n",
       "1       Mass Measurement       MASS_MEASUREMENT\n",
       "2     Optical Inspection     OPTICAL_INSPECTION\n",
       "3     Vender Information     VENDER_INFORMATION"
      ]
     },
     "execution_count": 12,
     "metadata": {},
     "output_type": "execute_result"
    }
   ],
   "source": [
    "# what tests are appropriate?\n",
    "compTypeCode=compObj['componentType']['code']\n",
    "compTestList=list(myClient.get('listTestTypes',json={'project':projCode, 'componentType':compTypeCode}))\n",
    "compTestMap=[{\"name\":w['name'], \"code\":w['code']} for w in compTestList]\n",
    "df_compTest=pd.DataFrame(compTestMap)\n",
    "df_compTest.drop_duplicates()"
   ]
  },
  {
   "cell_type": "code",
   "execution_count": 13,
   "metadata": {},
   "outputs": [
    {
     "data": {
      "text/plain": [
       "{'component': '...',\n",
       " 'testType': 'BARE_MODULE_METROLOGY',\n",
       " 'institution': '...',\n",
       " 'runNumber': '...',\n",
       " 'date': '2020-12-10T15:37:06.407Z',\n",
       " 'passed': True,\n",
       " 'problems': False,\n",
       " 'results': {'SILICON_X/Y/Z': [5.3346822253279464, 5.3346822253279464],\n",
       "  'FLEX_Z': [180.59837703686426, 180.59837703686426],\n",
       "  'SILICON_PLANARITY_STD_DEV': 288.8615285589762,\n",
       "  'FLEX_PLANARITY_STD_DEV': 0.8772735055366876,\n",
       "  'FLEX_PLANARITY': 315.3864731284275,\n",
       "  'SILICON_PLANARITY': 176.31494275829104,\n",
       "  'FLEX_X/Y': [285.03530221441025, 285.03530221441025]}}"
      ]
     },
     "execution_count": 13,
     "metadata": {},
     "output_type": "execute_result"
    }
   ],
   "source": [
    "# test format\n",
    "testCode=\"BARE_MODULE_METROLOGY\"\n",
    "testObj=myClient.get('generateTestTypeDtoSample',json={'project':projCode, 'code': testCode, 'componentType':compTypeCode, 'requiredOnly' : False})\n",
    "testObj"
   ]
  },
  {
   "cell_type": "code",
   "execution_count": 14,
   "metadata": {},
   "outputs": [
    {
     "data": {
      "text/plain": [
       "'requestedToDelete'"
      ]
     },
     "execution_count": 14,
     "metadata": {},
     "output_type": "execute_result"
    }
   ],
   "source": [
    "### delete component\n",
    "myClient.post('deleteComponent', json={'component':newCode})\n",
    "\n",
    "checkObj=myClient.get('getComponent',json={'component':newCode})\n",
    "checkObj['state']"
   ]
  },
  {
   "cell_type": "code",
   "execution_count": null,
   "metadata": {},
   "outputs": [],
   "source": []
  }
 ],
 "metadata": {
  "anaconda-cloud": {},
  "kernelspec": {
   "display_name": "Python 3",
   "language": "python",
   "name": "python3"
  },
  "language_info": {
   "codemirror_mode": {
    "name": "ipython",
    "version": 3
   },
   "file_extension": ".py",
   "mimetype": "text/x-python",
   "name": "python",
   "nbconvert_exporter": "python",
   "pygments_lexer": "ipython3",
   "version": "3.8.3"
  }
 },
 "nbformat": 4,
 "nbformat_minor": 4
}
