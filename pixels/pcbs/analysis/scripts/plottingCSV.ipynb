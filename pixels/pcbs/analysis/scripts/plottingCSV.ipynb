{
 "cells": [
  {
   "cell_type": "code",
   "execution_count": 1,
   "metadata": {},
   "outputs": [],
   "source": [
    "import sys\n",
    "\n",
    "import pandas as pd\n",
    "## common PDB access\n",
    "pdsDir = globals()['_dh'][0]\n",
    "sys.path.insert(1, pdsDir+'/..')\n",
    "import PDBinfrastructure as infra\n",
    "import myDetails\n",
    "## plotting\n",
    "import altair as alt"
   ]
  },
  {
   "cell_type": "code",
   "execution_count": 2,
   "metadata": {},
   "outputs": [
    {
     "data": {
      "text/plain": [
       "1798"
      ]
     },
     "execution_count": 2,
     "metadata": {},
     "output_type": "execute_result"
    }
   ],
   "source": [
    "#####################\n",
    "### access PDB\n",
    "#####################\n",
    "deets=myDetails.SetITk()\n",
    "myClient=infra.AuthenticateUser(deets.ac1,deets.ac2)\n",
    "user=myClient.get('getUser', json={'userIdentity': myClient.user.identity})\n",
    "user['firstName']\n",
    "myClient.user.expires_in"
   ]
  },
  {
   "cell_type": "code",
   "execution_count": null,
   "metadata": {},
   "outputs": [],
   "source": [
    "#####################\n",
    "### get data from csv\n",
    "#####################\n",
    "\n",
    "dataPath=pdsDir+\"/../../data/\"\n",
    "fileName=dataPath+\"RD53A Quad Hybrid QC register - Sheet1.csv\"\n",
    "#fileName=dataPath+\"TestSheet1.csv\"\n",
    "df_raw = pd.read_csv(fileName)\n",
    "df_raw=df_raw.convert_dtypes()\n",
    "df_raw.columns\n",
    "\n",
    "# format input data for upload - map booleans\n",
    "df_raw['Shorts on capacitors?']=df_raw['Shorts on capacitors?'].map({'no':False,'not tested':False,'No':False,'reworked':True,'yes':True,'Yes':True})\n",
    "df_raw['Shorts on capacitors?'].value_counts()\n",
    "\n",
    "df_raw['Scans taken?']=df_raw['Scans taken?'].map({'no':False,'not tested':False,'No':False,'reworked':True,'yes':True,'Yes':True})\n",
    "df_raw['Scans taken?'].value_counts()\n",
    "\n",
    "df_raw.dtypes\n",
    "df_raw.head(5)\n",
    "\n",
    "# mapping values\n",
    "def repFunc(x):\n",
    "    if 'not tested' in str(x).lower():\n",
    "        return -1\n",
    "    else:\n",
    "        return x\n",
    "df_raw['HV leakage (mV on readout card)']=df_raw['HV leakage (mV on readout card)'].apply(lambda x:repFunc(x))\n",
    "df_raw['HV leakage (mV on readout card)'].value_counts()\n",
    "df_raw['HV leakage (mV on readout card)'].describe()\n",
    "df_raw['HV leakage (mV on readout card)']=pd.to_numeric(df_raw['HV leakage (mV on readout card)'],errors='coerce')\n",
    "df_raw['HV leakage (mV on readout card)'].plot.hist(bins=100, alpha=0.5,title=\"HVLEAKAGE\")\n",
    "\n",
    "df_raw['Temp (°C) (@HV test)'].describe()\n",
    "df_raw['humidity (%) (@HV test)'].describe()\n",
    "df_raw['HV leakage (mV on readout card)'].describe()"
   ]
  },
  {
   "cell_type": "code",
   "execution_count": null,
   "metadata": {},
   "outputs": [],
   "source": [
    "#####################\n",
    "### plot csv data\n",
    "#####################\n",
    "\n",
    "### define comparison sets\n",
    "cu_set=['top cu thickness (microns)','bot cu thickness (microns)']\n",
    "sldo_set=['SLDO 1 (kOhms)','SLDO 2','SLDO3','SLDO4']\n",
    "height_set=['hv cap height (mm)','connector height (mm)']\n",
    "drop_set=['Vin drop with jig compensation','GND drop with jig compensation']\n",
    "cond_set=['Temp (°C) (@HV test)','humidity (%) (@HV test)']"
   ]
  },
  {
   "cell_type": "code",
   "execution_count": null,
   "metadata": {},
   "outputs": [],
   "source": [
    "### pandas in-built plotting\n",
    "for c in cu_set:\n",
    "    df_raw[c]=pd.to_numeric(df_raw[c],errors='coerce')\n",
    "    df_raw[c].plot.hist(bins=12, alpha=0.5,title=c)\n",
    "\n",
    "for c in sldo_set:\n",
    "    df_raw[c]=pd.to_numeric(df_raw[c],errors='coerce')\n",
    "    df_raw[c].plot.hist(bins=12, alpha=0.5,title=c)\n",
    "\n",
    "for c in height_set:\n",
    "    df_raw[c]=pd.to_numeric(df_raw[c],errors='coerce')\n",
    "    df_raw[c].plot.hist(bins=12, alpha=0.5,title=c)\n",
    "\n",
    "for c in drop_set:\n",
    "    df_raw[c]=pd.to_numeric(df_raw[c],errors='coerce')\n",
    "    df_raw[c].plot.hist(bins=12, alpha=0.5,title=c)\n",
    "\n",
    "for c in cond_set:\n",
    "    df_raw[c]=pd.to_numeric(df_raw[c],errors='coerce')\n",
    "    df_raw[c].plot.hist(bins=12, alpha=0.5,title=c)"
   ]
  },
  {
   "cell_type": "code",
   "execution_count": null,
   "metadata": {},
   "outputs": [],
   "source": [
    "### altair plotting\n",
    "histo=alt.Chart(df_raw).transform_fold(\n",
    "    cond_set,\n",
    "    as_=['name', 'value']\n",
    ").mark_area(\n",
    "    opacity=0.3,\n",
    "    interpolate='step'\n",
    ").encode(\n",
    "    alt.X('value:Q', bin=alt.Bin(maxbins=100)),\n",
    "    alt.Y('count()', stack=None),\n",
    "    alt.Color('name:N')\n",
    ").interactive()\n",
    "alt.renderers.enable('mimetype')\n",
    "histo.height=300\n",
    "histo.width=500\n",
    "\n",
    "histo\n",
    "\n",
    "histo.show()"
   ]
  }
 ],
 "metadata": {
  "anaconda-cloud": {},
  "kernelspec": {
   "display_name": "Python 3",
   "language": "python",
   "name": "python3"
  },
  "language_info": {
   "codemirror_mode": {
    "name": "ipython",
    "version": 3
   },
   "file_extension": ".py",
   "mimetype": "text/x-python",
   "name": "python",
   "nbconvert_exporter": "python",
   "pygments_lexer": "ipython3",
   "version": "3.8.3"
  }
 },
 "nbformat": 4,
 "nbformat_minor": 4
}
